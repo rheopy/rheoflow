{
 "cells": [
  {
   "cell_type": "markdown",
   "metadata": {},
   "source": [
    "# Quickstart for laminar, non-Newtonian pipe flow"
   ]
  },
  {
   "cell_type": "markdown",
   "metadata": {},
   "source": [
    "[![Colab](https://colab.research.google.com/assets/colab-badge.svg)](https://colab.research.google.com/github/rheopy/rheoflow/blob/master/notebooks/index.ipynb)"
   ]
  },
  {
   "cell_type": "code",
   "execution_count": 3,
   "metadata": {},
   "outputs": [],
   "source": [
    "#!pip install git+https://github.com/rheopy/rheoflow.git"
   ]
  },
  {
   "cell_type": "code",
   "execution_count": 4,
   "metadata": {},
   "outputs": [],
   "source": [
    "import rheoflow"
   ]
  },
  {
   "cell_type": "code",
   "execution_count": 5,
   "metadata": {},
   "outputs": [],
   "source": [
    "import numpy as np\n",
    "import matplotlib.pyplot as plt\n",
    "%matplotlib inline\n",
    "#plt.style.use(['dark_background'])\n",
    "\n",
    "from ipywidgets import interact, fixed\n",
    "from ipywidgets import widgets\n",
    "from IPython.display import display, Math, Latex"
   ]
  },
  {
   "cell_type": "markdown",
   "metadata": {},
   "source": [
    "# rheopy.laminar deep example with references\n",
    "\n",
    "This notebook provides deep examples for using rheopy for pipe flow.  Both tube and slit flow examples with a variety of viscosity models are provided.  SI units units are used everywhere.  For the variables used here, the units are:\n",
    "\n",
    "$\\eta = \\left< Pas \\right>$\n",
    "\n",
    "$\\sigma = \\left< Pa \\right>$\n",
    "\n",
    "$\\dot{\\gamma} = \\left< s^{-1} \\right>$\n",
    "\n",
    "$\\Delta P = \\left< Pa \\right>$\n",
    "\n",
    "$Q = \\left< \\frac{m^3}{s} \\right>$\n",
    "\n",
    "$v_z = \\left< \\frac{m}{s} \\right>$\n",
    "\n",
    "$length = \\left< m \\right>$\n",
    "\n",
    "$radius = \\left< m \\right>$"
   ]
  },
  {
   "cell_type": "markdown",
   "metadata": {},
   "source": [
    "## Calculation procedure\n",
    "\n",
    "The rheopy.laminar notebook is intended to work with any viscosity model.  There are four elemenets of computation:\n",
    "\n",
    "1. A viscosity model using the class structure provided - $\\eta(\\dot{\\gamma})$\n",
    "2. Shear rate calculation at any radial position (tube) or height (slit) - $\\dot{\\gamma}(r)$\n",
    "3. Velocity calculation at any position - $v_z(r)$\n",
    "4. Volumetric flow rate - $Q$, given $\\Delta P$ (or vice versa)"
   ]
  },
  {
   "cell_type": "markdown",
   "metadata": {},
   "source": [
    "## Details of calculations\n",
    "\n",
    "### 1 - Viscosity model\n",
    "Use pre-existing, or create new function with viscosity as a function of shear rate:\n",
    "\n",
    "$\\eta \\left[ \\dot{\\gamma} \\right]$\n",
    "\n",
    "### 2 - Shear rate calculation ($\\dot{\\gamma}$)\n",
    "The equation to be solved for shear rate at any radial position is\n",
    "\n",
    "$\\eta \\left[ \\dot{\\gamma}(r) \\right] \\dot{\\gamma}(r) = \\frac{r}{2} \\frac{\\Delta P}{L}$,\n",
    "\n",
    "where $\\dot{\\gamma}(r) = \\frac{d v_z(r)}{dr}$\n",
    "\n",
    "This equation is simply an equality of shear stress from constituitve model and shear stress from a momentum balance.  This calculation is numerical in rheopy because this equation does not always have analytical solutions.  The Carreau viscosity model is an example where an analytical solution does not yet exist.  \n",
    "\n",
    "Note that 4 inputs are required: \n",
    "1. Viscosity model - $\\eta(\\dot{\\gamma})$\n",
    "2. Tube radius\n",
    "3. Tube length\n",
    "4. Pressure drop ($\\Delta P$)\n",
    "\n",
    "### 3 - Velocity calculation ($v_z$)\n",
    "The axial velocity is calculated from the shear rate directly\n",
    "\n",
    "$v_z(r) = -\\int_{r}^{R} \\dot{\\gamma}(r)dr$\n",
    "\n",
    "This integral is computed numerically beacuse the shear rate is computed numerically.\n",
    "\n",
    "### 4 - Volumetric flow rate ($Q$)\n",
    "The volumetric flow rate is computed by numerically integrating the velocity profile\n",
    "\n",
    "$Q = 2\\pi \\int_{0}^{R} v_z(r)rdr$\n",
    "\n",
    "Note that if Q is an input, then $\\Delta P$ must be solved for iteratively.  "
   ]
  },
  {
   "cell_type": "markdown",
   "metadata": {},
   "source": [
    "## Viscosity model class structure\n",
    "\n",
    "The actual class of power_law is shown below.  Any viscosity model class must have three features:\n",
    "1. A __init__ method to initialize an object\n",
    "2. A __str__ method to print the object (not actually required)\n",
    "3. A calc_visc method for computing the viscosity for input shear rate"
   ]
  },
  {
   "cell_type": "code",
   "execution_count": 6,
   "metadata": {},
   "outputs": [],
   "source": [
    "class power_law(rheoflow.viscosity.property_plot):\n",
    "    def __init__(self,name='Default',k=1.,n=.5):\n",
    "        self.name = name\n",
    "        self.k = k\n",
    "        self.n = n\n",
    "        \n",
    "    def __str__(self):\n",
    "        return str(self.name+'\\n'+\n",
    "            'k ='+str(self.k)+'\\n'+\n",
    "            'n='+str(self.n)+'\\n')\n",
    "        \n",
    "    def calc_visc(self,rate):\n",
    "        return self.k*(rate+1.e-9)**(self.n-1.)"
   ]
  },
  {
   "cell_type": "markdown",
   "metadata": {},
   "source": [
    "An instance, pl_viscosity, of the power_law class is created. The object is printed, showing parameter values.  The viscosity at a shear rate of 150 $s^{-1}$ is computed."
   ]
  },
  {
   "cell_type": "code",
   "execution_count": 7,
   "metadata": {},
   "outputs": [],
   "source": [
    "pl_viscosity = power_law(name='My example power-law',k=2.0,n=0.7)"
   ]
  },
  {
   "cell_type": "code",
   "execution_count": 8,
   "metadata": {},
   "outputs": [
    {
     "name": "stdout",
     "output_type": "stream",
     "text": [
      "My example power-law\n",
      "k =2.0\n",
      "n=0.7\n",
      "\n"
     ]
    }
   ],
   "source": [
    "print(pl_viscosity)"
   ]
  },
  {
   "cell_type": "code",
   "execution_count": 9,
   "metadata": {},
   "outputs": [
    {
     "data": {
      "text/plain": [
       "0.4448387563894917"
      ]
     },
     "execution_count": 9,
     "metadata": {},
     "output_type": "execute_result"
    }
   ],
   "source": [
    "pl_viscosity.calc_visc(rate=150.)"
   ]
  },
  {
   "cell_type": "markdown",
   "metadata": {},
   "source": [
    "The inherited laminar.property_plot provides convenience methods.  For example viscosity_plot and stress_plot are ised here.  The min and max shear rate range in the plot are .001 and 10,000."
   ]
  },
  {
   "cell_type": "code",
   "execution_count": 10,
   "metadata": {},
   "outputs": [
    {
     "data": {
      "image/png": "[encoded data removed]",
      "text/plain": [
       "<Figure size 432x288 with 1 Axes>"
      ]
     },
     "metadata": {
      "needs_background": "light"
     },
     "output_type": "display_data"
    }
   ],
   "source": [
    "pl_viscosity.visc_plot()"
   ]
  },
  {
   "cell_type": "code",
   "execution_count": 11,
   "metadata": {},
   "outputs": [
    {
     "data": {
      "image/png": "[encoded data removed]",
      "text/plain": [
       "<Figure size 864x288 with 2 Axes>"
      ]
     },
     "metadata": {
      "needs_background": "light"
     },
     "output_type": "display_data"
    }
   ],
   "source": [
    "plt.figure(figsize=(12,4))\n",
    "plt.subplot(121)\n",
    "pl_viscosity.visc_plot()\n",
    "plt.subplot(122)\n",
    "pl_viscosity.stress_plot()          "
   ]
  },
  {
   "cell_type": "markdown",
   "metadata": {},
   "source": [
    "We can instantiate an object, rheopy_pl_viscosity, from rheopy.laminar that is the same.  It produces the same results."
   ]
  },
  {
   "cell_type": "code",
   "execution_count": 12,
   "metadata": {},
   "outputs": [],
   "source": [
    "rheoflow_pl_viscosity = rheoflow.viscosity.power_law(name='My rheopy power-law viscosity',k=2.0,n=0.7)"
   ]
  },
  {
   "cell_type": "code",
   "execution_count": 13,
   "metadata": {},
   "outputs": [
    {
     "data": {
      "text/plain": [
       "[<matplotlib.lines.Line2D at 0x15163e1b70>]"
      ]
     },
     "execution_count": 13,
     "metadata": {},
     "output_type": "execute_result"
    },
    {
     "data": {
      "image/png": "[encoded data removed]",
      "text/plain": [
       "<Figure size 864x288 with 2 Axes>"
      ]
     },
     "metadata": {
      "needs_background": "light"
     },
     "output_type": "display_data"
    }
   ],
   "source": [
    "plt.figure(figsize=(12,4))\n",
    "\n",
    "rate_list = np.logspace(-2,3,11)\n",
    "visc_list = [pl_viscosity.calc_visc(rate=r) for r in rate_list]\n",
    "\n",
    "plt.subplot(121)\n",
    "pl_viscosity.visc_plot()\n",
    "plt.plot(rate_list,visc_list,'o')\n",
    "plt.subplot(122)\n",
    "rheoflow_pl_viscosity.visc_plot() \n",
    "plt.plot(rate_list,visc_list,'o')"
   ]
  },
  {
   "cell_type": "markdown",
   "metadata": {},
   "source": [
    "## Tube class structure and example"
   ]
  },
  {
   "cell_type": "markdown",
   "metadata": {},
   "source": [
    "An instance of the class laminar_tube_flow is created.  The instance/object is called my_tube.  The object is created using the viscosity model pl_viscosity that we used above."
   ]
  },
  {
   "cell_type": "code",
   "execution_count": 15,
   "metadata": {},
   "outputs": [],
   "source": [
    "my_tube = rheoflow.pipe.laminar(name='My experimental tube',radius=.005,length=5.,viscosity=pl_viscosity)"
   ]
  },
  {
   "cell_type": "markdown",
   "metadata": {},
   "source": [
    "The object my_tube may be printed to see important variables.  Note that neither pressure drop or flow rate have been specified so nothing is computed."
   ]
  },
  {
   "cell_type": "code",
   "execution_count": 16,
   "metadata": {},
   "outputs": [
    {
     "name": "stdout",
     "output_type": "stream",
     "text": [
      "Name =My experimental tube\n",
      "Radius =0.005\n",
      "Length =5.0\n",
      "Pressure drop =None\n",
      "Flow rate =None\n",
      "Shear rate wall = None\n"
     ]
    }
   ],
   "source": [
    "print(my_tube)"
   ]
  },
  {
   "cell_type": "markdown",
   "metadata": {},
   "source": [
    "Now we set a value of pressure drop tp 50,000 Pa.  Then when we print my_tube, a flow rate and shear rate are computed."
   ]
  },
  {
   "cell_type": "code",
   "execution_count": 17,
   "metadata": {},
   "outputs": [],
   "source": [
    "my_tube.pressure_drop = 500000."
   ]
  },
  {
   "cell_type": "code",
   "execution_count": 18,
   "metadata": {},
   "outputs": [
    {
     "name": "stdout",
     "output_type": "stream",
     "text": [
      "Name =My experimental tube\n",
      "Radius =0.005\n",
      "Length =5.0\n",
      "Pressure drop =500000.0\n",
      "Flow rate =8.777724882195872e-05\n",
      "Shear rate wall = 989.887255479541\n"
     ]
    }
   ],
   "source": [
    "print(my_tube)"
   ]
  },
  {
   "cell_type": "markdown",
   "metadata": {},
   "source": [
    "The variables (attributes) of my_tube may be accessed.  They are the same values as seen in the print statement."
   ]
  },
  {
   "cell_type": "code",
   "execution_count": 19,
   "metadata": {},
   "outputs": [],
   "source": [
    "my_tube.q = 1.e-4"
   ]
  },
  {
   "cell_type": "code",
   "execution_count": 20,
   "metadata": {},
   "outputs": [
    {
     "data": {
      "text/plain": [
       "547775.5316163055"
      ]
     },
     "execution_count": 20,
     "metadata": {},
     "output_type": "execute_result"
    }
   ],
   "source": [
    "my_tube.pressure_drop"
   ]
  },
  {
   "cell_type": "code",
   "execution_count": 21,
   "metadata": {},
   "outputs": [
    {
     "data": {
      "text/plain": [
       "1127.7264539099242"
      ]
     },
     "execution_count": 21,
     "metadata": {},
     "output_type": "execute_result"
    }
   ],
   "source": [
    "my_tube.shear_rate_wall"
   ]
  },
  {
   "cell_type": "code",
   "execution_count": 22,
   "metadata": {},
   "outputs": [
    {
     "data": {
      "text/plain": [
       "273.8877658081527"
      ]
     },
     "execution_count": 22,
     "metadata": {},
     "output_type": "execute_result"
    }
   ],
   "source": [
    "my_tube.shear_stress_wall"
   ]
  },
  {
   "cell_type": "code",
   "execution_count": 23,
   "metadata": {},
   "outputs": [
    {
     "data": {
      "text/plain": [
       "0.005"
      ]
     },
     "execution_count": 23,
     "metadata": {},
     "output_type": "execute_result"
    }
   ],
   "source": [
    "my_tube.radius"
   ]
  },
  {
   "cell_type": "markdown",
   "metadata": {},
   "source": [
    "Now we can change a variable, such as radius, and observe the new calculated values of my_tube."
   ]
  },
  {
   "cell_type": "code",
   "execution_count": 24,
   "metadata": {},
   "outputs": [],
   "source": [
    "my_tube.radius = .01"
   ]
  },
  {
   "cell_type": "code",
   "execution_count": 25,
   "metadata": {},
   "outputs": [
    {
     "name": "stdout",
     "output_type": "stream",
     "text": [
      "Name =My experimental tube\n",
      "Radius =0.01\n",
      "Length =5.0\n",
      "Pressure drop =547775.5316163055\n",
      "Flow rate =0.0021534403082110105\n",
      "Shear rate wall = 3035.6145031072165\n"
     ]
    }
   ],
   "source": [
    "print(my_tube)"
   ]
  },
  {
   "cell_type": "code",
   "execution_count": 26,
   "metadata": {},
   "outputs": [],
   "source": [
    "my_tube.radius = .005\n",
    "my_tube.length = 2.0"
   ]
  },
  {
   "cell_type": "code",
   "execution_count": 27,
   "metadata": {},
   "outputs": [
    {
     "name": "stdout",
     "output_type": "stream",
     "text": [
      "Name =My experimental tube\n",
      "Radius =0.005\n",
      "Length =2.0\n",
      "Pressure drop =547775.5316163055\n",
      "Flow rate =0.00037024203699299505\n",
      "Shear rate wall = 4175.317394665525\n"
     ]
    }
   ],
   "source": [
    "print(my_tube)"
   ]
  },
  {
   "cell_type": "markdown",
   "metadata": {},
   "source": [
    "### Change length example\n",
    "We can also create lists of variables, such as tube length.  Then we can explore and plot in a pythonic way.  Here we create a list, length_list, with values from 1-10 m.  Then we plot the resulting changes.\n",
    "\n",
    "Note that pressure drop does not change unless we explicitly change the flow rate to a new value.  So pressure drop does not change in the first plot.  However, flow rate changes with length in the second plot."
   ]
  },
  {
   "cell_type": "code",
   "execution_count": 28,
   "metadata": {},
   "outputs": [
    {
     "data": {
      "image/png": "[encoded data removed]",
      "text/plain": [
       "<Figure size 1008x288 with 2 Axes>"
      ]
     },
     "metadata": {
      "needs_background": "light"
     },
     "output_type": "display_data"
    }
   ],
   "source": [
    "length_list = np.linspace(1.,10.,11)\n",
    "my_tube.q = 1.e-6\n",
    "my_tube.pressure_drop = 50000.\n",
    "my_tube.radius = .01\n",
    "\n",
    "dp_list = [my_tube.pressure_drop for my_tube.length in length_list]\n",
    "q_list = [my_tube.q for my_tube.length in length_list]\n",
    "\n",
    "plt.figure(figsize=(14,4))\n",
    "plt.subplot(121)\n",
    "plt.plot(length_list,dp_list,'o')\n",
    "plt.xlabel('Length (m)')\n",
    "plt.ylabel('$\\Delta P (Pa)$');\n",
    "plt.subplot(122)\n",
    "plt.plot(length_list,q_list,'o')\n",
    "plt.xlabel('Length (m)')\n",
    "plt.ylabel('$Q (m^3/s)$');"
   ]
  },
  {
   "cell_type": "markdown",
   "metadata": {},
   "source": [
    "### Change radius example\n",
    "We can also create lists of variables, such as tube radius.  Then we can explore and plot in a pythonic way.  Here we create a list, radius_list, with values from .002-0.22 m.  Then we plot the resulting changes.\n",
    "\n",
    "Note that pressure drop does not change unless we explicitly change the flow rate to a new value.  So pressure drop does not change in the first plot.  However, flow rate changes with radius in the second plot."
   ]
  },
  {
   "cell_type": "code",
   "execution_count": 29,
   "metadata": {},
   "outputs": [
    {
     "data": {
      "image/png": "[encoded data removed]",
      "text/plain": [
       "<Figure size 1008x288 with 2 Axes>"
      ]
     },
     "metadata": {
      "needs_background": "light"
     },
     "output_type": "display_data"
    }
   ],
   "source": [
    "radius_list = np.linspace(.002,.022,11)\n",
    "my_tube.q = 1.e-6\n",
    "my_tube.pressure_drop = 50000.\n",
    "my_tube.length = 1.\n",
    "dp_list = [my_tube.pressure_drop for my_tube.radius in radius_list]\n",
    "q_list = [my_tube.q for my_tube.radius in radius_list]\n",
    "\n",
    "plt.figure(figsize=(14,4))\n",
    "plt.subplot(121)\n",
    "plt.plot(radius_list,dp_list,'o')\n",
    "plt.xlabel('Radius (m)')\n",
    "plt.ylabel('$\\Delta P (Pa)$');\n",
    "plt.subplot(122)\n",
    "plt.plot(radius_list,q_list,'o')\n",
    "plt.xlabel('Radius (m)')\n",
    "plt.ylabel('$Q (m^3/s)$');"
   ]
  },
  {
   "cell_type": "markdown",
   "metadata": {},
   "source": [
    "## Carreau viscosity model example"
   ]
  },
  {
   "cell_type": "markdown",
   "metadata": {},
   "source": [
    "The Carreau viscosity model may be expressed with four parameters as:\n",
    "\n",
    "$ \\eta \\left( \\dot{\\gamma} \\right) = \\eta_{\\infty}+ \\frac{\\eta_0-\\eta_{\\infty}}{\\left( \\left( 1+\\left(\\lambda \\dot{\\gamma} \\right)^a \\right) \\right)^{\\frac{1-n}{n}}} $\n",
    "\n",
    "To instantiate an object of class Carreau, we use"
   ]
  },
  {
   "cell_type": "code",
   "execution_count": 31,
   "metadata": {},
   "outputs": [],
   "source": [
    "my_carreau_model = rheoflow.viscosity.carreau('My first Carreau model',\n",
    "                                   eta0=5.,etainf=.11,reltime=.02,a=1.3,n=.3)"
   ]
  },
  {
   "cell_type": "markdown",
   "metadata": {},
   "source": [
    "To compute the viscosity at a specified shear rate, we use the calc_visc(rate) method"
   ]
  },
  {
   "cell_type": "code",
   "execution_count": 32,
   "metadata": {},
   "outputs": [
    {
     "data": {
      "text/plain": [
       "4.7030017198606435"
      ]
     },
     "execution_count": 32,
     "metadata": {},
     "output_type": "execute_result"
    }
   ],
   "source": [
    "my_carreau_model.calc_visc(rate=10.)"
   ]
  },
  {
   "cell_type": "markdown",
   "metadata": {},
   "source": [
    "To view the model parameters, we use the print method"
   ]
  },
  {
   "cell_type": "code",
   "execution_count": 33,
   "metadata": {},
   "outputs": [
    {
     "name": "stdout",
     "output_type": "stream",
     "text": [
      "My first Carreau model\n",
      "eta0 =5.0\n",
      "etainf =0.11\n",
      "reltime =0.02\n",
      "a =1.3\n",
      "n=0.3\n",
      "\n"
     ]
    }
   ],
   "source": [
    "print(my_carreau_model)"
   ]
  },
  {
   "cell_type": "markdown",
   "metadata": {},
   "source": [
    "To plot the viscosity versus shear rate on a log-log plot, we use the method visc_plot(rate_min,rate_max), which is inherited from the Property_plot class."
   ]
  },
  {
   "cell_type": "code",
   "execution_count": 34,
   "metadata": {},
   "outputs": [
    {
     "data": {
      "image/png": "[encoded data removed]",
      "text/plain": [
       "<Figure size 432x288 with 1 Axes>"
      ]
     },
     "metadata": {
      "needs_background": "light"
     },
     "output_type": "display_data"
    }
   ],
   "source": [
    "my_carreau_model.visc_plot()"
   ]
  },
  {
   "cell_type": "markdown",
   "metadata": {},
   "source": [
    "## Laminar pipe flow - Carreau viscosity model"
   ]
  },
  {
   "cell_type": "markdown",
   "metadata": {},
   "source": [
    "We will instantiate an object my_carreau_tube with a few properties and also use the object my_carreau_model to specifiy the viscosity behavior."
   ]
  },
  {
   "cell_type": "code",
   "execution_count": 36,
   "metadata": {},
   "outputs": [],
   "source": [
    "my_carreau_tube = rheoflow.pipe.laminar('my laminar flow pipe',density=1000.,\n",
    "                               radius=.01,length=1.0,viscosity=my_carreau_model)"
   ]
  },
  {
   "cell_type": "markdown",
   "metadata": {},
   "source": [
    "Set the pressure drop to 20,000 Pa"
   ]
  },
  {
   "cell_type": "code",
   "execution_count": 37,
   "metadata": {},
   "outputs": [],
   "source": [
    "my_carreau_tube.pressure_drop = 20000."
   ]
  },
  {
   "cell_type": "markdown",
   "metadata": {},
   "source": [
    "Check the object propperties by using print"
   ]
  },
  {
   "cell_type": "code",
   "execution_count": 38,
   "metadata": {},
   "outputs": [
    {
     "name": "stdout",
     "output_type": "stream",
     "text": [
      "Name =my laminar flow pipe\n",
      "Radius =0.01\n",
      "Length =1.0\n",
      "Pressure drop =20000.0\n",
      "Flow rate =1.782691971171862e-05\n",
      "Shear rate wall = 23.673966897448867\n"
     ]
    }
   ],
   "source": [
    "print(my_carreau_tube)"
   ]
  },
  {
   "cell_type": "markdown",
   "metadata": {},
   "source": [
    "We can check the viscosity model used by my_carreau_tube"
   ]
  },
  {
   "cell_type": "code",
   "execution_count": 39,
   "metadata": {},
   "outputs": [
    {
     "data": {
      "image/png": "[encoded data removed]",
      "text/plain": [
       "<Figure size 432x288 with 1 Axes>"
      ]
     },
     "metadata": {
      "needs_background": "light"
     },
     "output_type": "display_data"
    }
   ],
   "source": [
    "my_carreau_tube._viscosity.visc_plot()"
   ]
  },
  {
   "cell_type": "markdown",
   "metadata": {},
   "source": [
    "### Shear rate calculation"
   ]
  },
  {
   "cell_type": "markdown",
   "metadata": {},
   "source": [
    "The shear rate at any radial position between r=0 and r=radius is essential to all calculations here.  We will calculate the shear rate at the radial position of the outer wall, r=radius.  There are three different ways to do this."
   ]
  },
  {
   "cell_type": "code",
   "execution_count": 40,
   "metadata": {},
   "outputs": [
    {
     "data": {
      "text/plain": [
       "23.673966897448867"
      ]
     },
     "execution_count": 40,
     "metadata": {},
     "output_type": "execute_result"
    }
   ],
   "source": [
    "my_carreau_tube.shear_rate_wall"
   ]
  },
  {
   "cell_type": "code",
   "execution_count": 41,
   "metadata": {},
   "outputs": [
    {
     "data": {
      "text/plain": [
       "100.0"
      ]
     },
     "execution_count": 41,
     "metadata": {},
     "output_type": "execute_result"
    }
   ],
   "source": [
    "my_carreau_tube.shear_stress_wall"
   ]
  },
  {
   "cell_type": "markdown",
   "metadata": {},
   "source": [
    "There is a method to plot the shear rate as a function of radial position, shear_rate_plot()"
   ]
  },
  {
   "cell_type": "code",
   "execution_count": 42,
   "metadata": {},
   "outputs": [
    {
     "data": {
      "image/png": "[encoded data removed]",
      "text/plain": [
       "<Figure size 432x288 with 1 Axes>"
      ]
     },
     "metadata": {
      "needs_background": "light"
     },
     "output_type": "display_data"
    }
   ],
   "source": [
    "my_carreau_tube.shear_rate_plot()"
   ]
  },
  {
   "cell_type": "code",
   "execution_count": 43,
   "metadata": {},
   "outputs": [
    {
     "data": {
      "image/png": "[encoded data removed]",
      "text/plain": [
       "<Figure size 432x288 with 1 Axes>"
      ]
     },
     "metadata": {
      "needs_background": "light"
     },
     "output_type": "display_data"
    }
   ],
   "source": [
    "my_carreau_tube.vz_plot()"
   ]
  },
  {
   "cell_type": "markdown",
   "metadata": {},
   "source": [
    "### Flow rate versus pressure drop"
   ]
  },
  {
   "cell_type": "markdown",
   "metadata": {},
   "source": [
    "The flow rate may be calculated as a function of pressure drop, or pressure drop as a function of flow rate.  Both are shown here.  Finally a log-log plot of pressure drop as a function of flowrate is shown."
   ]
  },
  {
   "cell_type": "code",
   "execution_count": 44,
   "metadata": {},
   "outputs": [
    {
     "data": {
      "text/plain": [
       "20000.0"
      ]
     },
     "execution_count": 44,
     "metadata": {},
     "output_type": "execute_result"
    }
   ],
   "source": [
    "my_carreau_tube.pressure_drop"
   ]
  },
  {
   "cell_type": "code",
   "execution_count": 45,
   "metadata": {},
   "outputs": [
    {
     "data": {
      "text/plain": [
       "1.782691971171862e-05"
      ]
     },
     "execution_count": 45,
     "metadata": {},
     "output_type": "execute_result"
    }
   ],
   "source": [
    "my_carreau_tube.q"
   ]
  },
  {
   "cell_type": "code",
   "execution_count": 46,
   "metadata": {},
   "outputs": [
    {
     "data": {
      "image/png": "[encoded data removed]",
      "text/plain": [
       "<Figure size 432x288 with 1 Axes>"
      ]
     },
     "metadata": {
      "needs_background": "light"
     },
     "output_type": "display_data"
    }
   ],
   "source": [
    "my_carreau_tube.q_plot(pressure_drop_min=200.,pressure_drop_max=200000.)"
   ]
  },
  {
   "cell_type": "markdown",
   "metadata": {},
   "source": [
    "## Laminar pipe flow - 3-Comp viscosity model"
   ]
  },
  {
   "cell_type": "markdown",
   "metadata": {},
   "source": [
    "The 3-component viscosity model may be expressed with three parameters as:\n",
    "\n",
    "$ \\eta \\left( \\dot{\\gamma} \\right) = \\frac{\\tau_y}{\\dot{\\gamma}} + \\frac{\\tau_y}{\\dot{\\gamma}}\\left( \\frac{\\dot{\\gamma}_{crit}}{\\dot{\\gamma}}\\right)^n + \\eta_{bg} $\n",
    "\n",
    "To instantiate an object of class Three_component, we use"
   ]
  },
  {
   "cell_type": "code",
   "execution_count": 48,
   "metadata": {},
   "outputs": [],
   "source": [
    "my_3c_viscosity = rheoflow.viscosity.three_component('my 3-comp viscosity model',tauy=100.,gamma_crit=10., eta_bg=1.,m=1000.)"
   ]
  },
  {
   "cell_type": "code",
   "execution_count": 49,
   "metadata": {},
   "outputs": [
    {
     "data": {
      "image/png": "[encoded data removed]",
      "text/plain": [
       "<Figure size 432x288 with 1 Axes>"
      ]
     },
     "metadata": {
      "needs_background": "light"
     },
     "output_type": "display_data"
    }
   ],
   "source": [
    "my_3c_viscosity.visc_plot()"
   ]
  },
  {
   "cell_type": "code",
   "execution_count": 50,
   "metadata": {},
   "outputs": [
    {
     "data": {
      "image/png": "[encoded data removed]",
      "text/plain": [
       "<Figure size 432x288 with 1 Axes>"
      ]
     },
     "metadata": {
      "needs_background": "light"
     },
     "output_type": "display_data"
    }
   ],
   "source": [
    "my_3c_viscosity.stress_plot()"
   ]
  },
  {
   "cell_type": "code",
   "execution_count": 51,
   "metadata": {},
   "outputs": [
    {
     "data": {
      "text/plain": [
       "10.0"
      ]
     },
     "execution_count": 51,
     "metadata": {},
     "output_type": "execute_result"
    }
   ],
   "source": [
    "my_3c_viscosity.gamma_crit"
   ]
  },
  {
   "cell_type": "code",
   "execution_count": 52,
   "metadata": {},
   "outputs": [],
   "source": [
    "def my_3c_stress(viscosity_model,tauy,gamma_crit,eta_bg,m):\n",
    "    viscosity_model.eta_bg = eta_bg\n",
    "    viscosity_model.gamma_crit = gamma_crit\n",
    "    viscosity_model.tauy = tauy\n",
    "    viscosity_model.m = m\n",
    "    viscosity_model.stress_plot()\n"
   ]
  },
  {
   "cell_type": "code",
   "execution_count": 53,
   "metadata": {},
   "outputs": [],
   "source": [
    "my_3c_pipe = rheoflow.pipe.laminar('my 3-comp pipe',density=1000.,\n",
    "                                  radius=.01,length=1.,viscosity=my_3c_viscosity)"
   ]
  },
  {
   "cell_type": "code",
   "execution_count": 54,
   "metadata": {},
   "outputs": [],
   "source": [
    "my_3c_pipe.pressure_drop = 200000."
   ]
  },
  {
   "cell_type": "code",
   "execution_count": 55,
   "metadata": {},
   "outputs": [
    {
     "name": "stdout",
     "output_type": "stream",
     "text": [
      "Name =my 3-comp pipe\n",
      "Radius =0.01\n",
      "Length =1.0\n",
      "Pressure drop =200000.0\n",
      "Flow rate =0.00021750103142115598\n",
      "Shear rate wall = 327.61947052473454\n"
     ]
    }
   ],
   "source": [
    "print(my_3c_pipe)"
   ]
  },
  {
   "cell_type": "code",
   "execution_count": 56,
   "metadata": {},
   "outputs": [
    {
     "data": {
      "image/png": "[encoded data removed]",
      "text/plain": [
       "<Figure size 432x288 with 1 Axes>"
      ]
     },
     "metadata": {
      "needs_background": "light"
     },
     "output_type": "display_data"
    }
   ],
   "source": [
    "my_3c_pipe.q_plot(1000.,100000.)"
   ]
  },
  {
   "cell_type": "code",
   "execution_count": 57,
   "metadata": {},
   "outputs": [
    {
     "data": {
      "text/plain": [
       "8.4884073546493e-06"
      ]
     },
     "execution_count": 57,
     "metadata": {},
     "output_type": "execute_result"
    }
   ],
   "source": [
    "my_3c_pipe.pressure_drop=50000.\n",
    "my_3c_pipe.q"
   ]
  },
  {
   "cell_type": "code",
   "execution_count": 58,
   "metadata": {},
   "outputs": [
    {
     "data": {
      "text/plain": [
       "49999.98759870919"
      ]
     },
     "execution_count": 58,
     "metadata": {},
     "output_type": "execute_result"
    }
   ],
   "source": [
    "my_3c_pipe.q = 8.4884e-6\n",
    "my_3c_pipe.pressure_drop"
   ]
  },
  {
   "cell_type": "code",
   "execution_count": 59,
   "metadata": {},
   "outputs": [
    {
     "data": {
      "image/png": "[encoded data removed]",
      "text/plain": [
       "<Figure size 432x288 with 1 Axes>"
      ]
     },
     "metadata": {
      "needs_background": "light"
     },
     "output_type": "display_data"
    }
   ],
   "source": [
    "my_3c_pipe.shear_rate_plot()"
   ]
  },
  {
   "cell_type": "code",
   "execution_count": 60,
   "metadata": {},
   "outputs": [
    {
     "data": {
      "image/png": "[encoded data removed]",
      "text/plain": [
       "<Figure size 432x288 with 1 Axes>"
      ]
     },
     "metadata": {
      "needs_background": "light"
     },
     "output_type": "display_data"
    }
   ],
   "source": [
    "my_3c_pipe.vz_plot()"
   ]
  },
  {
   "cell_type": "code",
   "execution_count": null,
   "metadata": {},
   "outputs": [],
   "source": []
  },
  {
   "cell_type": "markdown",
   "metadata": {},
   "source": [
    "## Papanastasiou parameter m for yield stress fluids"
   ]
  },
  {
   "cell_type": "code",
   "execution_count": null,
   "metadata": {},
   "outputs": [],
   "source": []
  }
 ],
 "metadata": {
  "kernelspec": {
   "display_name": "Python 3",
   "language": "python",
   "name": "python3"
  },
  "language_info": {
   "codemirror_mode": {
    "name": "ipython",
    "version": 3
   },
   "file_extension": ".py",
   "mimetype": "text/x-python",
   "name": "python",
   "nbconvert_exporter": "python",
   "pygments_lexer": "ipython3",
   "version": "3.6.10"
  }
 },
 "nbformat": 4,
 "nbformat_minor": 4
}
